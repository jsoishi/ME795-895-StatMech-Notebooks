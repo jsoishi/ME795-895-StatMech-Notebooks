{
 "cells": [
  {
   "cell_type": "markdown",
   "id": "e023f697-15cc-4eb4-848e-70337aa2fbfa",
   "metadata": {},
   "source": [
    "# Generating Random Walks\n",
    "\n",
    "This exercise will introduce you to the computation of random walks and reinforce some of the things we learned back at the beginning of the semester. "
   ]
  },
  {
   "cell_type": "code",
   "execution_count": null,
   "id": "edc3724b-b768-4b7f-94b5-3dfa0e1348ec",
   "metadata": {},
   "outputs": [],
   "source": [
    "import numpy as np\n",
    "import matplotlib.pyplot as plt"
   ]
  },
  {
   "cell_type": "markdown",
   "id": "72ef30a4-5118-4dae-b1e2-5624b9390e7c",
   "metadata": {},
   "source": [
    "## Programming Task 1\n",
    "First, finish the routine `random_walk` below to generate an N-step random walk in d dimensions, which each step uniformly distributed on $[-1/2,1/2)$"
   ]
  },
  {
   "cell_type": "code",
   "execution_count": null,
   "id": "34a4d7e1-6741-49c0-8e0f-47108c5b670c",
   "metadata": {},
   "outputs": [],
   "source": [
    "def random_walk(steps, dimension):\n",
    "    \"\"\"random_walk\n",
    "    inputs\n",
    "    ------\n",
    "    dimension (integer) dimension of the system\n",
    "    steps (integer): the number of steps to take in the random walk\n",
    "    \"\"\"\n",
    "    # set up random number generator\n",
    "    rng = np.random.default_rng()\n",
    "    \n",
    "    # calculate step deltas\n",
    "    deltas = rng.uniform(low=-0.5,high=0.5, size=(steps, dimension))\n",
    "\n",
    "    # fill this in to return a list of the output of the random walk after each step\n",
    "    # you can use the numpy cumsum() feature\n",
    "\n",
    "    return walks"
   ]
  },
  {
   "cell_type": "markdown",
   "id": "a5a722b6-62f1-4c72-ae92-2b903eae15b5",
   "metadata": {},
   "source": [
    "## Question 1\n",
    "Fill in the \"...\" parts in the code below to plot some one dimensional random walks versus step number for $N= 10, 100, 10000$ steps. **Make sure to add appropriate axis labels using `plt.xlabel` and `plt.ylabel`!**\n",
    "\n",
    "Does multiplying the number of steps by 100 roughly increase the distance by 10?\n",
    "\n"
   ]
  },
  {
   "cell_type": "code",
   "execution_count": null,
   "id": "bc49b251-6b82-4e31-8614-bfe59ddf5e75",
   "metadata": {},
   "outputs": [],
   "source": [
    "plt.figure(figsize=(12,4))\n",
    "plt.subplot(131)\n",
    "plt.title(\"$N = 10$\")\n",
    "for i in range(10):\n",
    "    plt.plot(random_walk(...))\n",
    "plt.subplot(132)\n",
    "plt.title(\"$N = 100$\")\n",
    "for i in range(10):\n",
    "    plt.plot(random_walk(...))\n",
    "plt.subplot(133)\n",
    "plt.title(\"$N = 10000$\")\n",
    "for i in range(10):\n",
    "    plt.plot(random_walk(...))"
   ]
  },
  {
   "cell_type": "markdown",
   "id": "8c8ff0ab-1eff-4383-a312-33f1ce9224a9",
   "metadata": {},
   "source": [
    "## Question 2\n",
    "\n",
    "Fill in the \"...\" to plot some two-dimensional random walks with $n=10000$. The plot here will be square to ensure that the image properly represents the paths. However, you might try using `plt.xlim()` and `plt.ylim()` to set the $x$ and $y$ limits of the plot to be the same. "
   ]
  },
  {
   "cell_type": "code",
   "execution_count": null,
   "id": "a73e9d4c-0b77-4da6-96db-5e6092061871",
   "metadata": {},
   "outputs": [],
   "source": [
    "plt.figure(figsize=(5,5))\n",
    "for i in range(10):\n",
    "    positions = random_walk(...)\n",
    "    x = positions[:,0]\n",
    "    y = positions[:,1]\n",
    "    plt.plot(x,y)"
   ]
  },
  {
   "cell_type": "markdown",
   "id": "07df88fc-0da6-45f5-8d3e-88dce02d9097",
   "metadata": {},
   "source": [
    "# Programming Task 2\n",
    "Next, write a function `endpoints` that gives the endpoints of `Nwalks` random walks of `Nsteps` steps in `d` dimensions."
   ]
  },
  {
   "cell_type": "code",
   "execution_count": null,
   "id": "aae1ec11-62ec-4664-a834-106d37646b99",
   "metadata": {},
   "outputs": [],
   "source": [
    "def endpoints(Nwalks, Nsteps, d):\n",
    "    pass"
   ]
  },
  {
   "cell_type": "markdown",
   "id": "9eb080d9-2da5-4fc0-8efb-12c0a6db77e0",
   "metadata": {},
   "source": [
    "## Question 3\n",
    "\n",
    "Plot the end points of 10000 random walks of length 10. Then plot the endpoints of 10000 random walks of length 1. How does this illustrate an *emergent symmetry*?"
   ]
  },
  {
   "cell_type": "code",
   "execution_count": null,
   "id": "888f0ad6-a100-4993-95b0-263f1422726c",
   "metadata": {
    "scrolled": true
   },
   "outputs": [],
   "source": [
    "ends = endpoints(...)\n",
    "ends1 = endpoints(...)\n",
    "plt.figure(figsize=(5,5))\n",
    "plt.scatter(ends[:,0], ends[:,1])\n",
    "plt.scatter(ends1[:,0], ends1[:,1])"
   ]
  },
  {
   "cell_type": "markdown",
   "id": "7df44656-ff96-4b8c-b606-c5c1f51557af",
   "metadata": {},
   "source": [
    "## Question 4\n",
    "\n",
    "Now, let's investigate the *distribution* of endpoints in an ensemble of 1D random walks."
   ]
  },
  {
   "cell_type": "markdown",
   "id": "a4380b2b-e3e5-413d-a114-9444088b7b1e",
   "metadata": {},
   "source": [
    "First, compute 1000 walks with N=1,2,3,4,5 steps in 1d. Save each in a separate variable, so you can compare then later."
   ]
  },
  {
   "cell_type": "code",
   "execution_count": null,
   "id": "b916803b-456d-4d52-83f3-02600edf636b",
   "metadata": {},
   "outputs": [],
   "source": [
    "Nsteps = \n",
    "Nwalks = \n",
    "rws = endpoints(Nwalks, Nsteps,1)"
   ]
  },
  {
   "cell_type": "markdown",
   "id": "171276dc-9e97-40f7-88fc-ed5162cdf455",
   "metadata": {},
   "source": [
    "Next, we take into account that our stepsize is *not* constant, as it was when we were discussing the problem in class (where we typically considered a situation in which the random walker would take a step of either $\\pm 1$. But here, we have a a uniform distribution between $\\pm 1/2$. So, we need to compute the RMS step size $a =\\sqrt{\\left< l_i^2\\right>}$ for $l_i$ uniformly distributed in $[-1/2, 1/2)$. *Hint: use the `rng` code from above*."
   ]
  },
  {
   "cell_type": "code",
   "execution_count": null,
   "id": "72599caa-79f8-4147-9d2e-d2f607ce76dd",
   "metadata": {},
   "outputs": [],
   "source": [
    "rng = np.random.default_rng()\n",
    "Nsteps = 10000\n",
    "steps= rng.uniform(low=-0.5,high=0.5, size=(Nsteps))\n",
    "a = ..."
   ]
  },
  {
   "cell_type": "markdown",
   "id": "dc09589b-6a07-4dc7-92c7-a158f107d961",
   "metadata": {},
   "source": [
    "Finally, compute the histogram and compare it to \n",
    "$$\\rho(x) = \\frac{1}{\\sqrt{2\\pi} \\sigma} \\exp{(-x^2/2\\sigma^2)}$$\n",
    "\n",
    "using $\\sigma = a \\sqrt{N}$, where $a$ is the RMS stepsize you just calculated.\n",
    "\n",
    "On separate plots (only one is started for you below), plot the histogram of endpoints and the model gaussian for each set of 1000 random walks with different numbers of steps."
   ]
  },
  {
   "cell_type": "code",
   "execution_count": null,
   "id": "fd908b2f-e15f-4bab-afef-f696f077f898",
   "metadata": {},
   "outputs": [],
   "source": [
    "sigma = ...\n",
    "x = np.linspace(-3*sigma,3*sigma, 1000)\n",
    "rho_gaussian = ...\n",
    "plt.figure(figsize=(5,5))\n",
    "plt.hist(rws,bins=50,density=True)\n",
    "plt.plot(x,rho_gaussian)"
   ]
  },
  {
   "cell_type": "markdown",
   "id": "784fde0a-ba8d-496b-a2b3-90d886933482",
   "metadata": {},
   "source": [
    "How many steps (between 1 and 5) does it take for the distribution to be well approximated by a Gaussian? Is this surprising to you, or not? Explain your reasoning.\n",
    "\n",
    "**For 895 students**, you should come up with a way of quantifying this \"well-approximated\". What is a good measure of that? "
   ]
  },
  {
   "cell_type": "code",
   "execution_count": null,
   "id": "06447e02-2311-4dce-917f-923135e08f14",
   "metadata": {},
   "outputs": [],
   "source": []
  }
 ],
 "metadata": {
  "kernelspec": {
   "display_name": "Python 3 (ipykernel)",
   "language": "python",
   "name": "python3"
  },
  "language_info": {
   "codemirror_mode": {
    "name": "ipython",
    "version": 3
   },
   "file_extension": ".py",
   "mimetype": "text/x-python",
   "name": "python",
   "nbconvert_exporter": "python",
   "pygments_lexer": "ipython3",
   "version": "3.11.10"
  }
 },
 "nbformat": 4,
 "nbformat_minor": 5
}

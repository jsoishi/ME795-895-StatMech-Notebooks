{
 "cells": [
  {
   "cell_type": "markdown",
   "id": "a021f853-805e-4676-bcc0-b9bba5f7baeb",
   "metadata": {},
   "source": [
    "# Unit Test 5: Entropy, Fractals, and the Logistic Map\n",
    "\n",
    "This notebook will explore entropy in a new way. One of the reasons that entropy increases is that physical systems are often *chaotic*.\n",
    "\n",
    "## Grading Rubric\n",
    "\n",
    "- Does the notebook **run**? All cells must evaluate and do something without errors. (6 points)\n",
    "- Is each question answered in a markdown cell with text? (3 points per problem)\n",
    "- Are all plots labeled? (3 points)\n"
   ]
  },
  {
   "cell_type": "code",
   "execution_count": null,
   "id": "de0c6175-3d71-47b7-b2b3-3c1d043e45f4",
   "metadata": {},
   "outputs": [],
   "source": [
    "import numpy as np\n",
    "import matplotlib.pyplot as plt"
   ]
  },
  {
   "cell_type": "markdown",
   "id": "6d8fd53c-86ce-4a5f-9ef3-67e5fde276e8",
   "metadata": {},
   "source": [
    "## Problem 1: Implementing the Logistic Map\n",
    "First, let's explore a simple system that exhibits chaos: the Logistic map. The logistic map is nice because it is *very simple*. It is a map rather than a differential equation, which means programming it is really easy and doesn't require messy ODE solvers. \n",
    "\n",
    "The map takes a value $x_n$ at step $n$ and returns the value at the next step $x_{n+1}$ using the following equation:\n",
    "$$\n",
    "x_{n+1}= 4 \\mu x_{n}(1-x_{n}).\n",
    "$$\n",
    "\n",
    "$\\mu$ is a *parameter* here that can be changed. The map takes any value in the interval $x \\in [0,1)$ and maps it to some other value in that same interval (for math nerds, the domain and co-domain are the same). As simple as it seems, this does some **very** interesting things.\n",
    "\n",
    "Your first task is to complete the function below, which computes the logistic map."
   ]
  },
  {
   "cell_type": "code",
   "execution_count": null,
   "id": "b24edbb0-e940-4830-bb48-54b4765bb32b",
   "metadata": {},
   "outputs": [],
   "source": [
    "def logistic(x,mu):\n",
    "    x_next = ...\n",
    "\n",
    "    return x_next"
   ]
  },
  {
   "cell_type": "markdown",
   "id": "347426c6-6d21-40a6-bcb4-92f2511ab81a",
   "metadata": {},
   "source": [
    "Next, write a function that takes a number of iterations `Niter`, `Nskip`, and a starting point `x0` (also called an *initial condition*) and returns a full list of all of the iterations $x_{M}, x_{M+1}, x_{M+2},\\ldots, x_{N}$, where $M$ is equal to `Nskip` and $N$ is `Niter`. That is, your function should iterate the logistic map `Nskip` times, then start *recording* all the iterations after that up to `Niter` and return the list of all those iterations to the user."
   ]
  },
  {
   "cell_type": "code",
   "execution_count": null,
   "id": "f39ef033-8ef2-4dad-a781-d0a96d80aba2",
   "metadata": {},
   "outputs": [],
   "source": [
    "def IterateList(x0, mu, Niter=1000, Nskip=10):\n",
    "    x = x0\n",
    "    for i in range(Nskip):\n",
    "        x = ...\n",
    "    iterate_list = [x]\n",
    "    for i in range(Niter-1):\n",
    "        x = ...\n",
    "        iterate_list.append(x)\n",
    "    return np.array(iterate_list)"
   ]
  },
  {
   "cell_type": "markdown",
   "id": "51bb82b2-dd05-4b70-8a26-453ece627cd9",
   "metadata": {},
   "source": [
    "Next, test your code. Use an initial condition $x_0 = 0.4$. Set $\\mu = 0.2$, `Nskip=0`, `Niter=100`. Your final value should be zero to machine precision (that is, less than about $10^{-17}$.\n",
    "\n",
    "Print it in the cell below."
   ]
  },
  {
   "cell_type": "code",
   "execution_count": null,
   "id": "23f28efa-2ec7-46d9-af97-d0c8b33159be",
   "metadata": {},
   "outputs": [],
   "source": [
    "print(\"...\")"
   ]
  },
  {
   "cell_type": "markdown",
   "id": "63e817f7-9517-4db5-a067-129872c6d05d",
   "metadata": {},
   "source": [
    "## Problem 2: Testing the Code\n",
    "Use a continuous version of the map,\n",
    "$$\n",
    "f(x) = 4 \\mu x (1-x)\n",
    "$$\n",
    "to find the *fixed point* $x_*$. This is the point such that $f(x_*) = x_*$. If you reach that point, the all further iterations are the same value. **To find this, use algebra by hand.**\n",
    "\n",
    "\n",
    "Type your answer in the box below, showing steps:"
   ]
  },
  {
   "cell_type": "markdown",
   "id": "1817c2ae-7e20-4873-b717-8efb708018ea",
   "metadata": {},
   "source": [
    "ANSWER GOES HERE. An example of what you should do is below, delete it and replace it with your actual answer.\n",
    "\n",
    "Start with \n",
    "\n",
    "$x = 4$\n",
    "\n",
    "then \n",
    "\n",
    "$x^2 = 16$."
   ]
  },
  {
   "cell_type": "markdown",
   "id": "da92ca25-e3af-49dd-aef8-38a5428143be",
   "metadata": {},
   "source": [
    "An alternative way to of solving this non-linear equilibrium is to graphically find the point where $f(x)$ intersects $g(x) = x$. Plot both below for different values of $\\mu$ and confirm that the values agree with your algebraic formula for above (at least approximately). \n",
    "\n"
   ]
  },
  {
   "cell_type": "code",
   "execution_count": null,
   "id": "3da660f3-aa99-470d-9669-74054754492a",
   "metadata": {},
   "outputs": [],
   "source": [
    "mu=0.6\n",
    "x_analytic = np.linspace(0,1,100)\n",
    "f_analytic = 4*mu*x_analytic*(1-x_analytic)\n",
    "g_analytic = x_analytic\n",
    "plt.plot(x_analytic, f_analytic, label='f(x)')\n",
    "plt.plot(x_analytic, g_analytic, label='g(x)')\n",
    "plt.legend()\n",
    "plt.xlabel(\"x\")\n",
    "plt.ylabel(\"f(x)\")"
   ]
  },
  {
   "cell_type": "markdown",
   "id": "828006ee-4030-44f7-9eb5-b87a1f600f3a",
   "metadata": {},
   "source": [
    "Finally, fill in the code below to implement your algebraic formula and return a fixed point for a given value of $\\mu$."
   ]
  },
  {
   "cell_type": "code",
   "execution_count": null,
   "id": "6716724e-0f55-4bfd-890c-d862be05c8ec",
   "metadata": {},
   "outputs": [],
   "source": [
    "def fixed_point(mu):\n",
    "    x_star = ...\n",
    "\n",
    "    return x_star"
   ]
  },
  {
   "cell_type": "markdown",
   "id": "712fe237-26bd-4a7e-b08b-7ed61027940b",
   "metadata": {},
   "source": [
    "Now, you have some analytic solutions you can test your logistic map code on. First, use your formula to find analytic fixed points for $\\mu = 0.4$, $\\mu=0.6$. Verify that your code properly reproduces those. \n",
    "\n",
    "Plot your numerical solution with `Nskip = 0`, and add a vertical line (sample code to do so is below). How many iterations do you need (roughly) to reach this? Try it with at least 3 different $x_0$ (that is, different initial conditions). Plot all of them on the same plot."
   ]
  },
  {
   "cell_type": "code",
   "execution_count": null,
   "id": "c820495e-0484-4dac-8621-1befe5e3229c",
   "metadata": {},
   "outputs": [],
   "source": [
    "x_star_mu1 = fixed_point(0.4)\n",
    "x_star_mu2 = fixed_point(0.6)\n",
    "\n",
    "print(f\"for mu = 0.4, x_star = {x_star_mu1}\")\n",
    "print(f\"for mu = 0.6, x_star = {x_star_mu2}\")\n"
   ]
  },
  {
   "cell_type": "code",
   "execution_count": null,
   "id": "2a03346b-61df-4138-85c7-0544cb674908",
   "metadata": {},
   "outputs": [],
   "source": [
    "x_limit= IterateList(...)\n",
    "plt.plot(...)\n",
    "plt.axhline(x_star_mu1,color='k', alpha=0.5)"
   ]
  },
  {
   "cell_type": "markdown",
   "id": "97f63b5b-ed08-419d-84e2-dca54d9d746a",
   "metadata": {},
   "source": [
    "Finally, for 895 students, calculate the relative error of your numerical solution with respect to the analytic solution and print the answer in the cell below."
   ]
  },
  {
   "cell_type": "code",
   "execution_count": null,
   "id": "c7c8bdb5-0fa5-427a-a317-cf7225586494",
   "metadata": {},
   "outputs": [],
   "source": [
    "# CODE FOR RELATIVE ERROR GOES HERE (895 only)"
   ]
  },
  {
   "cell_type": "markdown",
   "id": "c6a12418-3ba4-47e5-84d3-6d8b7f7fcb6e",
   "metadata": {},
   "source": [
    "## Problem 3: Limit Cycles and chaos"
   ]
  },
  {
   "cell_type": "markdown",
   "id": "e1b41ead-cc48-42d7-a7aa-e56b79671ae1",
   "metadata": {},
   "source": [
    "Next, try $\\mu = 0.8$. You should see a \"limit cycle\": after an initial transient phase, the map should settle into a set of exactly two values. Play with the Nskip and Niter to see what they do. Note that if you set Niter too big, you may have trouble plotting the results. You should only plot a few hundred iterations (maybe the first few or the last few, which you can do with `x[:100]` or `x[-100:]`"
   ]
  },
  {
   "cell_type": "code",
   "execution_count": null,
   "id": "24255c8f-7a90-4a06-ae3b-275d258feea1",
   "metadata": {},
   "outputs": [],
   "source": [
    "x = IterateList(...)\n",
    "plt.plot(x[-50:])\n",
    "plt.xlabel(\"iteration\")\n",
    "plt.ylabel(\"x\")"
   ]
  },
  {
   "cell_type": "markdown",
   "id": "584e4e5e-3da8-41f5-b19f-2aebc9fbe515",
   "metadata": {},
   "source": [
    "In the cell below, print the two different values the limit cycle takes on. "
   ]
  },
  {
   "cell_type": "code",
   "execution_count": null,
   "id": "73f436e8-e946-4a78-8190-1de97ef35b8a",
   "metadata": {},
   "outputs": [],
   "source": [
    "print(f\"x[-1] = {x[-1]}, x[-2] = {x[-2]}\")"
   ]
  },
  {
   "cell_type": "markdown",
   "id": "4b7d9507-6bf6-4475-8681-990963034195",
   "metadata": {},
   "source": [
    "Finally, try $\\mu = 0.9$. First make a plot with `Nskip = 0`, so you can see how the system approaches some kind of steady state and then settles down. **How many iterations does it seem to take to come to this final state (which may have fluctuations in it!)?**"
   ]
  },
  {
   "cell_type": "code",
   "execution_count": null,
   "id": "89215e6a-d855-487a-9ced-2e492d21ee40",
   "metadata": {},
   "outputs": [],
   "source": [
    "x_chaos = IterateList(...)\n",
    "plt.plot(x_chaos[-1000:])\n",
    "plt.xlabel(\"iteration\")\n",
    "plt.ylabel(\"x\")"
   ]
  },
  {
   "cell_type": "markdown",
   "id": "9cf3a3d1-4643-4700-baea-ec20543d1fd0",
   "metadata": {},
   "source": [
    "**FOR 895 students**: This chaotic system shows *sensitive dependence on initial conditions*. That is, two different initial conditions $x_0$ and $x_0+\\epsilon$ will diverge completely extremely quickly. \n",
    "\n",
    "Show that below. Play with values of $\\epsilon \\sim \\mathcal{O}(10^{-17})$ until you see divergence. Figure out a good way to plot that divergence so it is clear that the two trajectories are different. How many iterations does it take for them to start diverging? Does that vary with $\\epsilon$?"
   ]
  },
  {
   "cell_type": "code",
   "execution_count": null,
   "id": "67a0e0df-b753-4dbd-ad4b-ac40112a4734",
   "metadata": {},
   "outputs": [],
   "source": [
    "eps = ...\n",
    "x_chaos = IterateList(0.2,0.9,Nskip=10000)\n",
    "x_chaos2 = IterateList(0.2+eps,0.9,Nskip=10000)\n",
    "plt.plot(...)\n"
   ]
  },
  {
   "cell_type": "markdown",
   "id": "79d24a63-3758-4941-9ab2-f57e566929c8",
   "metadata": {},
   "source": [
    "ANSWER GOES HERE (895 only)"
   ]
  },
  {
   "cell_type": "markdown",
   "id": "245e1aeb-7610-4978-8868-1a6fa2705ae9",
   "metadata": {},
   "source": [
    "## Problem 4: Probability Densities \n",
    "\n",
    "Once the map is beyond its initial transient, it reaches what is called an \"attractor\": a set of values from which the map does not emerge (that is, all new values are within this set). We can study that attractor by considering the probability density, which you can compute with the function below (I've given you the complete code here, you just need to run it).\n",
    "\n",
    "Note that this is why we have Nskip: we want to make sure we are actaully on the attractor before we start studying it. The transient isn't interesting to us (which isn't to say that it isn't interesting!)."
   ]
  },
  {
   "cell_type": "code",
   "execution_count": null,
   "id": "2e326cd8-14af-4834-98c6-1e3b69135f33",
   "metadata": {},
   "outputs": [],
   "source": [
    "def density(x0, mu, Niter=1000000, Nskip=1000, Nbins=1000):\n",
    "    x_list = IterateList(x0, mu, Niter=Niter, Nskip=Nskip)\n",
    "    d, bins = np.histogram(x_list, Nbins,density=True)\n",
    "    return d, bins"
   ]
  },
  {
   "cell_type": "markdown",
   "id": "c70a5a5c-4dd1-4837-8c13-8a09cb88bfe2",
   "metadata": {},
   "source": [
    "**Before you run any code**, in the cell below, make a predicition for what the probability density will look like for $\\mu = 0.4$ and $\\mu = 0.8$ in terms of the behavior you've seen above."
   ]
  },
  {
   "cell_type": "markdown",
   "id": "b7d274b3-1383-429f-b211-76dcd4d06f8c",
   "metadata": {},
   "source": [
    "ANSWER GOES HERE"
   ]
  },
  {
   "cell_type": "markdown",
   "id": "3dd37c68-8eab-48f6-a578-c5ace8867354",
   "metadata": {},
   "source": [
    "Next, compute the probability density for $\\mu = 0.4$, $\\mu = 0.8$, and $\\mu = 0.9$. You can use the code below to make the plot. Plot each on a separate set of axes. "
   ]
  },
  {
   "cell_type": "code",
   "execution_count": null,
   "id": "6ee907d2-bc9f-45fd-89cb-662ba239b231",
   "metadata": {},
   "outputs": [],
   "source": [
    "d4,b4 = density(...) # should contain mu=0.4\n",
    "d8,b8 = density(...) # mu=0.8\n",
    "d9,b9 = density(...) # mu=0.9"
   ]
  },
  {
   "cell_type": "code",
   "execution_count": null,
   "id": "5ec2e8f3-a5d1-40d4-afd7-8e0002aff74d",
   "metadata": {},
   "outputs": [],
   "source": [
    "plt.figure(figsize=(10,4))\n",
    "plt.subplot(131)\n",
    "plt.stairs(d4,b4)\n",
    "plt.xlabel(\"x\")\n",
    "plt.ylabel(\"Density\")\n",
    "plt.subplot(132)\n",
    "plt.stairs(d8,b8)\n",
    "plt.xlabel(\"x\")\n",
    "plt.ylabel(\"Density\")\n",
    "plt.subplot(133)\n",
    "plt.stairs(d9,b9)\n",
    "plt.xlabel(\"x\")\n",
    "plt.ylabel(\"Density\")\n",
    "plt.tight_layout()"
   ]
  },
  {
   "cell_type": "markdown",
   "id": "7a74331d-8400-404b-91d1-68f002668ce0",
   "metadata": {},
   "source": [
    "In the cell below, explain the density plots in detail. In particular, do any of them fill all of $x$? That is, are all possible values of $0 \\le x \\le 1$ represented? Is the microcanonical approximation satisfied? "
   ]
  },
  {
   "cell_type": "markdown",
   "id": "443944d5-a855-4214-a85b-80959954a03a",
   "metadata": {},
   "source": [
    "ANSWER GOES HERE"
   ]
  },
  {
   "cell_type": "markdown",
   "id": "258c30eb-3b32-4e0c-9896-0ee9836c1ffe",
   "metadata": {},
   "source": [
    "The code below (which is complete) generates a *bifurcation diagram*: essentially it prints all values of $x$ on the attractor for each value of $\\mu$. Run the two cells below and study the amazing amount of complexity this very simple system manifests!"
   ]
  },
  {
   "cell_type": "code",
   "execution_count": null,
   "id": "a12426f4-8a73-4bf0-be1e-662d5f3ede5e",
   "metadata": {},
   "outputs": [],
   "source": [
    "def bifurcation(x0, mu_min, Nmu, Nskip=100, Niter=10000):\n",
    "    mus = np.linspace(mu_min,1,Nmu)\n",
    "    bifurcation = np.zeros((Nmu, Niter))\n",
    "    ones = np.ones(Niter)\n",
    "    mu_plot = np.zeros_like(bifurcation)\n",
    "    for i, m in enumerate(mus):\n",
    "        bifurcation[i,:] = IterateList(x0, m, Nskip=Nskip, Niter=Niter)\n",
    "        mu_plot[i,:] = m*ones\n",
    "\n",
    "    return bifurcation, mu_plot"
   ]
  },
  {
   "cell_type": "code",
   "execution_count": null,
   "id": "5349079a-6f80-437d-a067-f04b7bc0a278",
   "metadata": {},
   "outputs": [],
   "source": [
    "b,m = bifurcation(0.2, 0.1, 1000)"
   ]
  },
  {
   "cell_type": "code",
   "execution_count": null,
   "id": "d85ab63b-f624-429c-8587-23f68afb1f7f",
   "metadata": {},
   "outputs": [],
   "source": [
    "plt.scatter(m,b,c='k', s=0.001,linewidths=0.001)\n",
    "plt.xlabel(r\"$\\mu$\")\n",
    "plt.ylabel(r\"$x$\")"
   ]
  },
  {
   "cell_type": "markdown",
   "id": "284a402c-aacc-43b3-972d-22605b8ece01",
   "metadata": {},
   "source": [
    "**For 895 students: In the cell below, explain what happens where the curve suddenly stops being flat. Make a quantitative predicition for exactly where that occurs (at what value of $\\mu$?)**"
   ]
  },
  {
   "cell_type": "markdown",
   "id": "b9f3ae22-8e92-44fc-84c3-bb387d3a5c93",
   "metadata": {},
   "source": [
    "ANSWER GOES HERE"
   ]
  },
  {
   "cell_type": "markdown",
   "id": "003df4c2-5283-4c2b-b3be-518acc4d7aa7",
   "metadata": {},
   "source": [
    "## Problem 5: Entropy\n",
    "Now, we're going to calculate the *entropy* of the logistic map output for various values of $\\mu$. \n",
    "\n",
    "First, we'll need the **non-equilibrium entropy**,\n",
    "\n",
    "$$\n",
    "S = -k_B \\int \\rho(x)\\log(\\rho(x)) dx.\n",
    "$$\n",
    "For this exercise, you are now all honorary theoretical physicists, so we will set $k_B = 1$.\n",
    "\n",
    "Complete the following function to implement the *discrete approximation*,\n",
    "\n",
    "$$\n",
    "S \\approx - \\sum_j \\rho(x_j) \\log(\\rho(x_j) \\Delta x,\n",
    "$$\n",
    "where $\\Delta x$ is the bin width from your density function. \n",
    "\n",
    "**HINT:** you'll need to add some tiny number, say `1e-100`, to the density when you take the log just in case you have a bin with zero counts in it (which...another hint...you will)."
   ]
  },
  {
   "cell_type": "code",
   "execution_count": null,
   "id": "a4c052de-596b-49d4-9f09-62af4a735f55",
   "metadata": {},
   "outputs": [],
   "source": [
    "def entropy(density, bins):\n",
    "    dx = bins[1]-bins[0]\n",
    "    S = -np.sum(...)\n",
    "    return S"
   ]
  },
  {
   "cell_type": "markdown",
   "id": "da8bcc87-b057-46a4-b001-6968ad1b1cc3",
   "metadata": {},
   "source": [
    "If your code works properly, the entropy should be about -232.404. Does this value change with different initial conditions? Should it?"
   ]
  },
  {
   "cell_type": "code",
   "execution_count": null,
   "id": "485b42e2-f0be-4b9c-9cf7-0237cc3f1686",
   "metadata": {},
   "outputs": [],
   "source": [
    "mu = 0.2\n",
    "x0 = 0.2\n",
    "d,b = density(x0,mu)\n",
    "S = entropy(d,b)\n",
    "print(f\"for mu = {mu}, S = {S}\")"
   ]
  },
  {
   "cell_type": "markdown",
   "id": "a4d2b070-ac06-4b0d-887d-371eae8976bd",
   "metadata": {},
   "source": [
    "ANSWER GOES HERE"
   ]
  },
  {
   "cell_type": "markdown",
   "id": "bed495bd-7687-47d1-9d6e-7f3b6565e932",
   "metadata": {},
   "source": [
    "Once you've computed the entropy for one value of $\\mu$, complete the code in the cell below to sweep across $0.8 \\le \\mu \\le 1$."
   ]
  },
  {
   "cell_type": "code",
   "execution_count": null,
   "id": "6a1ba71b-6721-4d6d-8a0d-5ae3b744a8f3",
   "metadata": {},
   "outputs": [],
   "source": [
    "entropies = []\n",
    "x0 = 0.56\n",
    "n_mus = 100\n",
    "mus = np.linspace(0.8,1,n_mus)\n",
    "for mu in mus:\n",
    "    print(f\"mu = {mu}\")\n",
    "    d,b = density(...)\n",
    "    entropies.append(entropy(d,b))"
   ]
  },
  {
   "cell_type": "markdown",
   "id": "c590104b-78c1-4825-a35f-8f62af9ad1c2",
   "metadata": {},
   "source": [
    "Finally, plot entropy as a function of $\\mu$ over this range. Describe any features you see. You should see some dips at high $\\mu$. Why? What does that mean? \n",
    "\n",
    "This is an example of a **phase transition**: the logistic map goes from being very regular and easy to predict (and thus *low entropy*) to being essentially impossible to predict due to chaos (*high entropy*). \n",
    "\n",
    "The critical point occurs at $\\mu_\\infty = 0.892486418$, which I have helpfully coded below for you. Plot a vertical line at this $\\mu$ and describe what happens there."
   ]
  },
  {
   "cell_type": "code",
   "execution_count": null,
   "id": "e1c08a0b-6ced-4ab6-b4c2-a7e6013a7ac2",
   "metadata": {},
   "outputs": [],
   "source": [
    "muInfinity = 0.892486418\n",
    "plt.plot(...)\n",
    "plt.axvline(...)\n",
    "plt.xlabel(r\"$\\mu$\")\n",
    "plt.ylabel(\"entropy\")"
   ]
  },
  {
   "cell_type": "code",
   "execution_count": null,
   "id": "017c77ce-c6fd-4a0b-aeb5-b84c1321e570",
   "metadata": {},
   "outputs": [],
   "source": []
  }
 ],
 "metadata": {
  "kernelspec": {
   "display_name": "Python 3 (ipykernel)",
   "language": "python",
   "name": "python3"
  },
  "language_info": {
   "codemirror_mode": {
    "name": "ipython",
    "version": 3
   },
   "file_extension": ".py",
   "mimetype": "text/x-python",
   "name": "python",
   "nbconvert_exporter": "python",
   "pygments_lexer": "ipython3",
   "version": "3.11.10"
  }
 },
 "nbformat": 4,
 "nbformat_minor": 5
}
